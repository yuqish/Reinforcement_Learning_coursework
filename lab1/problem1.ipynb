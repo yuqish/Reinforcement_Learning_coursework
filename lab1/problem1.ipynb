{
 "cells": [
  {
   "cell_type": "code",
   "execution_count": 6,
   "id": "4636f7c7",
   "metadata": {},
   "outputs": [],
   "source": [
    "import numpy as np\n",
    "import utilities as mz "
   ]
  },
  {
   "cell_type": "code",
   "execution_count": 2,
   "id": "6d72f916",
   "metadata": {},
   "outputs": [],
   "source": [
    "maze = np.array([\n",
    "    [0, 0, 1, 0, 0, 0, 0, 0],\n",
    "    [0, 0, 1, 0, 0, 1, 0, 0],\n",
    "    [0, 0, 1, 0, 0, 1, 1, 1],\n",
    "    [0, 0, 1, 0, 0, 1, 0, 0],\n",
    "    [0, 0, 0, 0, 0, 0, 0, 0],\n",
    "    [0, 1, 1, 1, 1, 1, 1, 0],\n",
    "    [0, 0, 0, 0, 1, 2, 0, 0]\n",
    "])\n",
    "\n",
    "env = mz.Maze(maze)"
   ]
  },
  {
   "cell_type": "markdown",
   "id": "338069ec",
   "metadata": {},
   "source": [
    "### Solve the MDP problem with dynamic programming"
   ]
  },
  {
   "cell_type": "code",
   "execution_count": 3,
   "id": "b0512f65",
   "metadata": {},
   "outputs": [
    {
     "name": "stdout",
     "output_type": "stream",
     "text": [
      "[(0, 0, 6, 5), (0, 1, 5, 5), (1, 1, 5, 6), (2, 1, 6, 6), (3, 1, 6, 5), (4, 1, 6, 4), (4, 2, 6, 5), (4, 3, 5, 5), (4, 4, 4, 5), (4, 5, 5, 5), (4, 6, 4, 5), (4, 7, 4, 6), (5, 7, 5, 6), (6, 7, 5, 5), (6, 6, 5, 4), (6, 5, 5, 5), (6, 5, 5, 6), (6, 5, 4, 6), (6, 5, 4, 7), (6, 5, 3, 7), (6, 5, 2, 7)]\n"
     ]
    }
   ],
   "source": [
    "# Finite horizon\n",
    "horizon = 20\n",
    "\n",
    "V, policy= mz.dynamic_programming(env,horizon);\n",
    "\n",
    "# Simulate (b)\n",
    "method = 'DynProg';\n",
    "start  = (0,0,6,5);\n",
    "path = env.simulate(start, policy, method);\n",
    "print(path)\n",
    "\n"
   ]
  },
  {
   "cell_type": "code",
   "execution_count": 4,
   "id": "63aa639a",
   "metadata": {},
   "outputs": [
    {
     "name": "stdout",
     "output_type": "stream",
     "text": [
      "reached exit\n"
     ]
    },
    {
     "data": {
      "image/png": "[encoded data removed]",
      "text/plain": [
       "<Figure size 432x288 with 1 Axes>"
      ]
     },
     "metadata": {},
     "output_type": "display_data"
    }
   ],
   "source": [
    "mz.animate_solution(maze, path)"
   ]
  },
  {
   "cell_type": "code",
   "execution_count": null,
   "id": "249072a2",
   "metadata": {},
   "outputs": [],
   "source": [
    "method = 'DynProg';\n",
    "start  = (0,0,6,5);\n",
    "probabilities = []\n",
    "\n",
    "for T in range(1,31):\n",
    "    V, policy= mz.dynamic_programming(env,T);\n",
    "    prob = env.compute_probability_exiting(start, policy, method, 10000, T)\n",
    "    probabilities.append(prob)\n",
    "\n",
    "print(probabilities)"
   ]
  },
  {
   "cell_type": "code",
   "execution_count": 7,
   "id": "df7d5600",
   "metadata": {},
   "outputs": [
    {
     "data": {
      "image/png": "[encoded data removed]",
      "text/plain": [
       "<Figure size 432x288 with 1 Axes>"
      ]
     },
     "metadata": {
      "needs_background": "light"
     },
     "output_type": "display_data"
    }
   ],
   "source": [
    "import matplotlib.pyplot as plt\n",
    "plt.plot(range(1,31), probabilities, marker='o')\n",
    "\n",
    "# naming the x axis\n",
    "plt.xlabel('T')\n",
    "# naming the y axis\n",
    "plt.ylabel('Probability of getting out alive')\n",
    " \n",
    "# function to show the plot\n",
    "plt.show()"
   ]
  },
  {
   "cell_type": "markdown",
   "id": "80299d79",
   "metadata": {},
   "source": [
    "### Value iteration"
   ]
  },
  {
   "cell_type": "code",
   "execution_count": 8,
   "id": "c58954ab",
   "metadata": {},
   "outputs": [],
   "source": [
    "# Discount Factor \n",
    "gamma   = 29/30; \n",
    "# Accuracy treshold \n",
    "epsilon = 0.0001;\n",
    "\n",
    "#env.REWARD_STEP = -1\n",
    "V, policy = mz.value_iteration(env, gamma, epsilon)"
   ]
  },
  {
   "cell_type": "code",
   "execution_count": 16,
   "id": "ce23d1d6",
   "metadata": {},
   "outputs": [
    {
     "name": "stdout",
     "output_type": "stream",
     "text": [
      "probability: 0.6192\n"
     ]
    }
   ],
   "source": [
    "method = 'ValIter';\n",
    "start  = (0,0,6,5);\n",
    "probabilities = []\n",
    "z = np.random.geometric(p=1/30, size=10000)\n",
    "\n",
    "\n",
    "\n",
    "prob = env.compute_probability_exiting(start, policy, method, 10000, z)\n",
    "print('probability:',prob)"
   ]
  },
  {
   "cell_type": "code",
   "execution_count": null,
   "id": "ab8384b5",
   "metadata": {},
   "outputs": [],
   "source": []
  },
  {
   "cell_type": "code",
   "execution_count": null,
   "id": "3aa64632",
   "metadata": {},
   "outputs": [],
   "source": []
  }
 ],
 "metadata": {
  "kernelspec": {
   "display_name": "Python 3 (ipykernel)",
   "language": "python",
   "name": "python3"
  },
  "language_info": {
   "codemirror_mode": {
    "name": "ipython",
    "version": 3
   },
   "file_extension": ".py",
   "mimetype": "text/x-python",
   "name": "python",
   "nbconvert_exporter": "python",
   "pygments_lexer": "ipython3",
   "version": "3.8.10"
  }
 },
 "nbformat": 4,
 "nbformat_minor": 5
}
